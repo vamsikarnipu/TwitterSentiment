{
 "cells": [
  {
   "cell_type": "code",
   "execution_count": 9,
   "id": "b899db06-1e11-4760-aba2-d8a73de57a27",
   "metadata": {},
   "outputs": [],
   "source": [
    "import pandas as pd"
   ]
  },
  {
   "cell_type": "code",
   "execution_count": 10,
   "id": "487a38ab-14db-4ba3-ba4c-c4b3fbae7a87",
   "metadata": {},
   "outputs": [],
   "source": [
    "data=pd.read_csv('training.csv',encoding='latin',names=['target','id','date','query','user','comment'])"
   ]
  },
  {
   "cell_type": "code",
   "execution_count": 11,
   "id": "04dd29cb-8ac5-496a-a6c7-8d3d243a677d",
   "metadata": {},
   "outputs": [
    {
     "data": {
      "text/html": [
       "<div>\n",
       "<style scoped>\n",
       "    .dataframe tbody tr th:only-of-type {\n",
       "        vertical-align: middle;\n",
       "    }\n",
       "\n",
       "    .dataframe tbody tr th {\n",
       "        vertical-align: top;\n",
       "    }\n",
       "\n",
       "    .dataframe thead th {\n",
       "        text-align: right;\n",
       "    }\n",
       "</style>\n",
       "<table border=\"1\" class=\"dataframe\">\n",
       "  <thead>\n",
       "    <tr style=\"text-align: right;\">\n",
       "      <th></th>\n",
       "      <th>target</th>\n",
       "      <th>id</th>\n",
       "      <th>date</th>\n",
       "      <th>query</th>\n",
       "      <th>user</th>\n",
       "      <th>comment</th>\n",
       "    </tr>\n",
       "  </thead>\n",
       "  <tbody>\n",
       "    <tr>\n",
       "      <th>0</th>\n",
       "      <td>0</td>\n",
       "      <td>1467810369</td>\n",
       "      <td>Mon Apr 06 22:19:45 PDT 2009</td>\n",
       "      <td>NO_QUERY</td>\n",
       "      <td>_TheSpecialOne_</td>\n",
       "      <td>@switchfoot http://twitpic.com/2y1zl - Awww, t...</td>\n",
       "    </tr>\n",
       "    <tr>\n",
       "      <th>1</th>\n",
       "      <td>0</td>\n",
       "      <td>1467810672</td>\n",
       "      <td>Mon Apr 06 22:19:49 PDT 2009</td>\n",
       "      <td>NO_QUERY</td>\n",
       "      <td>scotthamilton</td>\n",
       "      <td>is upset that he can't update his Facebook by ...</td>\n",
       "    </tr>\n",
       "    <tr>\n",
       "      <th>2</th>\n",
       "      <td>0</td>\n",
       "      <td>1467810917</td>\n",
       "      <td>Mon Apr 06 22:19:53 PDT 2009</td>\n",
       "      <td>NO_QUERY</td>\n",
       "      <td>mattycus</td>\n",
       "      <td>@Kenichan I dived many times for the ball. Man...</td>\n",
       "    </tr>\n",
       "    <tr>\n",
       "      <th>3</th>\n",
       "      <td>0</td>\n",
       "      <td>1467811184</td>\n",
       "      <td>Mon Apr 06 22:19:57 PDT 2009</td>\n",
       "      <td>NO_QUERY</td>\n",
       "      <td>ElleCTF</td>\n",
       "      <td>my whole body feels itchy and like its on fire</td>\n",
       "    </tr>\n",
       "    <tr>\n",
       "      <th>4</th>\n",
       "      <td>0</td>\n",
       "      <td>1467811193</td>\n",
       "      <td>Mon Apr 06 22:19:57 PDT 2009</td>\n",
       "      <td>NO_QUERY</td>\n",
       "      <td>Karoli</td>\n",
       "      <td>@nationwideclass no, it's not behaving at all....</td>\n",
       "    </tr>\n",
       "    <tr>\n",
       "      <th>...</th>\n",
       "      <td>...</td>\n",
       "      <td>...</td>\n",
       "      <td>...</td>\n",
       "      <td>...</td>\n",
       "      <td>...</td>\n",
       "      <td>...</td>\n",
       "    </tr>\n",
       "    <tr>\n",
       "      <th>1599995</th>\n",
       "      <td>4</td>\n",
       "      <td>2193601966</td>\n",
       "      <td>Tue Jun 16 08:40:49 PDT 2009</td>\n",
       "      <td>NO_QUERY</td>\n",
       "      <td>AmandaMarie1028</td>\n",
       "      <td>Just woke up. Having no school is the best fee...</td>\n",
       "    </tr>\n",
       "    <tr>\n",
       "      <th>1599996</th>\n",
       "      <td>4</td>\n",
       "      <td>2193601969</td>\n",
       "      <td>Tue Jun 16 08:40:49 PDT 2009</td>\n",
       "      <td>NO_QUERY</td>\n",
       "      <td>TheWDBoards</td>\n",
       "      <td>TheWDB.com - Very cool to hear old Walt interv...</td>\n",
       "    </tr>\n",
       "    <tr>\n",
       "      <th>1599997</th>\n",
       "      <td>4</td>\n",
       "      <td>2193601991</td>\n",
       "      <td>Tue Jun 16 08:40:49 PDT 2009</td>\n",
       "      <td>NO_QUERY</td>\n",
       "      <td>bpbabe</td>\n",
       "      <td>Are you ready for your MoJo Makeover? Ask me f...</td>\n",
       "    </tr>\n",
       "    <tr>\n",
       "      <th>1599998</th>\n",
       "      <td>4</td>\n",
       "      <td>2193602064</td>\n",
       "      <td>Tue Jun 16 08:40:49 PDT 2009</td>\n",
       "      <td>NO_QUERY</td>\n",
       "      <td>tinydiamondz</td>\n",
       "      <td>Happy 38th Birthday to my boo of alll time!!! ...</td>\n",
       "    </tr>\n",
       "    <tr>\n",
       "      <th>1599999</th>\n",
       "      <td>4</td>\n",
       "      <td>2193602129</td>\n",
       "      <td>Tue Jun 16 08:40:50 PDT 2009</td>\n",
       "      <td>NO_QUERY</td>\n",
       "      <td>RyanTrevMorris</td>\n",
       "      <td>happy #charitytuesday @theNSPCC @SparksCharity...</td>\n",
       "    </tr>\n",
       "  </tbody>\n",
       "</table>\n",
       "<p>1600000 rows × 6 columns</p>\n",
       "</div>"
      ],
      "text/plain": [
       "         target          id                          date     query  \\\n",
       "0             0  1467810369  Mon Apr 06 22:19:45 PDT 2009  NO_QUERY   \n",
       "1             0  1467810672  Mon Apr 06 22:19:49 PDT 2009  NO_QUERY   \n",
       "2             0  1467810917  Mon Apr 06 22:19:53 PDT 2009  NO_QUERY   \n",
       "3             0  1467811184  Mon Apr 06 22:19:57 PDT 2009  NO_QUERY   \n",
       "4             0  1467811193  Mon Apr 06 22:19:57 PDT 2009  NO_QUERY   \n",
       "...         ...         ...                           ...       ...   \n",
       "1599995       4  2193601966  Tue Jun 16 08:40:49 PDT 2009  NO_QUERY   \n",
       "1599996       4  2193601969  Tue Jun 16 08:40:49 PDT 2009  NO_QUERY   \n",
       "1599997       4  2193601991  Tue Jun 16 08:40:49 PDT 2009  NO_QUERY   \n",
       "1599998       4  2193602064  Tue Jun 16 08:40:49 PDT 2009  NO_QUERY   \n",
       "1599999       4  2193602129  Tue Jun 16 08:40:50 PDT 2009  NO_QUERY   \n",
       "\n",
       "                    user                                            comment  \n",
       "0        _TheSpecialOne_  @switchfoot http://twitpic.com/2y1zl - Awww, t...  \n",
       "1          scotthamilton  is upset that he can't update his Facebook by ...  \n",
       "2               mattycus  @Kenichan I dived many times for the ball. Man...  \n",
       "3                ElleCTF    my whole body feels itchy and like its on fire   \n",
       "4                 Karoli  @nationwideclass no, it's not behaving at all....  \n",
       "...                  ...                                                ...  \n",
       "1599995  AmandaMarie1028  Just woke up. Having no school is the best fee...  \n",
       "1599996      TheWDBoards  TheWDB.com - Very cool to hear old Walt interv...  \n",
       "1599997           bpbabe  Are you ready for your MoJo Makeover? Ask me f...  \n",
       "1599998     tinydiamondz  Happy 38th Birthday to my boo of alll time!!! ...  \n",
       "1599999   RyanTrevMorris  happy #charitytuesday @theNSPCC @SparksCharity...  \n",
       "\n",
       "[1600000 rows x 6 columns]"
      ]
     },
     "execution_count": 11,
     "metadata": {},
     "output_type": "execute_result"
    }
   ],
   "source": [
    "data"
   ]
  },
  {
   "cell_type": "code",
   "execution_count": 12,
   "id": "0611ed18-9e47-4856-a1e5-d7bd53ad8c1c",
   "metadata": {},
   "outputs": [
    {
     "data": {
      "text/plain": [
       "target     0\n",
       "id         0\n",
       "date       0\n",
       "query      0\n",
       "user       0\n",
       "comment    0\n",
       "dtype: int64"
      ]
     },
     "execution_count": 12,
     "metadata": {},
     "output_type": "execute_result"
    }
   ],
   "source": [
    "data.isnull().sum()"
   ]
  },
  {
   "cell_type": "code",
   "execution_count": 13,
   "id": "bc559c93-f4ad-4227-8f03-66708dddc709",
   "metadata": {},
   "outputs": [
    {
     "data": {
      "text/plain": [
       "0"
      ]
     },
     "execution_count": 13,
     "metadata": {},
     "output_type": "execute_result"
    }
   ],
   "source": [
    "data['target'].isnull().sum()"
   ]
  },
  {
   "cell_type": "code",
   "execution_count": 14,
   "id": "f22848d8-e486-47d5-bc0a-2463e8fdd102",
   "metadata": {},
   "outputs": [
    {
     "data": {
      "text/plain": [
       "target\n",
       "0    800000\n",
       "4    800000\n",
       "Name: count, dtype: int64"
      ]
     },
     "execution_count": 14,
     "metadata": {},
     "output_type": "execute_result"
    }
   ],
   "source": [
    "data['target'].value_counts()"
   ]
  },
  {
   "cell_type": "code",
   "execution_count": 15,
   "id": "d10f4193-4366-4154-a4e0-6d629688fb89",
   "metadata": {},
   "outputs": [
    {
     "data": {
      "text/plain": [
       "target\n",
       "0    800000\n",
       "1    800000\n",
       "Name: count, dtype: int64"
      ]
     },
     "execution_count": 15,
     "metadata": {},
     "output_type": "execute_result"
    }
   ],
   "source": [
    "data['target']=data['target'].map({0:0,4:1})\n",
    "data['target'].value_counts()"
   ]
  },
  {
   "cell_type": "code",
   "execution_count": 16,
   "id": "92684daa-3f91-4ad8-83b3-46f4269ca85c",
   "metadata": {},
   "outputs": [],
   "source": [
    "from sklearn.utils import resample\n",
    "data_0=resample(data[data['target']==0],replace=False,random_state=30,n_samples=100000)\n",
    "data_1=resample(data[data['target']==1],replace=False,random_state=30,n_samples=100000)"
   ]
  },
  {
   "cell_type": "code",
   "execution_count": 17,
   "id": "24761b9d-19f8-45bd-8143-e546a60c9d94",
   "metadata": {},
   "outputs": [
    {
     "data": {
      "text/plain": [
       "(target\n",
       " 0    100000\n",
       " Name: count, dtype: int64,\n",
       " target\n",
       " 1    100000\n",
       " Name: count, dtype: int64)"
      ]
     },
     "execution_count": 17,
     "metadata": {},
     "output_type": "execute_result"
    }
   ],
   "source": [
    "data_0['target'].value_counts(),data_1['target'].value_counts()"
   ]
  },
  {
   "cell_type": "code",
   "execution_count": 18,
   "id": "09642007-28d9-4476-b07b-b21fd655760e",
   "metadata": {},
   "outputs": [
    {
     "data": {
      "text/plain": [
       "(200000, 6)"
      ]
     },
     "execution_count": 18,
     "metadata": {},
     "output_type": "execute_result"
    }
   ],
   "source": [
    "final_data=pd.concat([data_0,data_1])\n",
    "final_data.shape"
   ]
  },
  {
   "cell_type": "code",
   "execution_count": 19,
   "id": "93807df8-bf56-4924-b213-962a12968b4a",
   "metadata": {},
   "outputs": [
    {
     "data": {
      "text/plain": [
       "target     0\n",
       "id         0\n",
       "date       0\n",
       "query      0\n",
       "user       0\n",
       "comment    0\n",
       "dtype: int64"
      ]
     },
     "execution_count": 19,
     "metadata": {},
     "output_type": "execute_result"
    }
   ],
   "source": [
    "final_data.isnull().sum()"
   ]
  },
  {
   "cell_type": "code",
   "execution_count": 20,
   "id": "f58a40c2-c6d4-4d8b-bee7-c066c25e40ec",
   "metadata": {},
   "outputs": [
    {
     "data": {
      "text/plain": [
       "200000"
      ]
     },
     "execution_count": 20,
     "metadata": {},
     "output_type": "execute_result"
    }
   ],
   "source": [
    "comments=final_data['comment'].tolist()\n",
    "len(comments)"
   ]
  },
  {
   "cell_type": "code",
   "execution_count": 21,
   "id": "f98e5791-7748-4581-b461-2a8c7f0d53fc",
   "metadata": {},
   "outputs": [
    {
     "name": "stdout",
     "output_type": "stream",
     "text": [
      "process started 1720587252.7598395\n",
      " time taken to complete:- 1051.2426843643188\n"
     ]
    }
   ],
   "source": [
    "from nltk.tokenize import sent_tokenize,word_tokenize\n",
    "from nltk.stem import WordNetLemmatizer\n",
    "from nltk.corpus import stopwords\n",
    "import re\n",
    "import time\n",
    "lm=WordNetLemmatizer()\n",
    "corpus=[]\n",
    "start=time.time()\n",
    "print(f'process started {start}')\n",
    "for comment in comments:\n",
    "    review=re.sub('[^a-zA-Z]',' ',comment)\n",
    "    review=review.lower()\n",
    "    review=review.split()\n",
    "    review=[lm.lemmatize(word) for word in review if word not in set(stopwords.words('english'))]\n",
    "    review=' '.join(review)\n",
    "    corpus.append(review)\n",
    "end=time.time()\n",
    "print(f' time taken to complete:- {end-start}')\n"
   ]
  },
  {
   "cell_type": "code",
   "execution_count": 22,
   "id": "85567217-ae8b-4ad9-9aa5-b9082325de74",
   "metadata": {},
   "outputs": [
    {
     "data": {
      "text/plain": [
       "target\n",
       "0    100000\n",
       "1    100000\n",
       "Name: count, dtype: int64"
      ]
     },
     "execution_count": 22,
     "metadata": {},
     "output_type": "execute_result"
    }
   ],
   "source": [
    "final_data['target'].value_counts()"
   ]
  },
  {
   "cell_type": "code",
   "execution_count": 30,
   "id": "756497cd-a6e7-427a-8b9d-6d108fc82432",
   "metadata": {},
   "outputs": [],
   "source": [
    "final_data['comment']=corpus"
   ]
  },
  {
   "cell_type": "code",
   "execution_count": 23,
   "id": "83f6f24f-dc50-4399-92cf-ac957b64cbd5",
   "metadata": {},
   "outputs": [
    {
     "data": {
      "text/html": [
       "<div>\n",
       "<style scoped>\n",
       "    .dataframe tbody tr th:only-of-type {\n",
       "        vertical-align: middle;\n",
       "    }\n",
       "\n",
       "    .dataframe tbody tr th {\n",
       "        vertical-align: top;\n",
       "    }\n",
       "\n",
       "    .dataframe thead th {\n",
       "        text-align: right;\n",
       "    }\n",
       "</style>\n",
       "<table border=\"1\" class=\"dataframe\">\n",
       "  <thead>\n",
       "    <tr style=\"text-align: right;\">\n",
       "      <th></th>\n",
       "      <th>target</th>\n",
       "      <th>id</th>\n",
       "      <th>date</th>\n",
       "      <th>query</th>\n",
       "      <th>user</th>\n",
       "      <th>comment</th>\n",
       "    </tr>\n",
       "  </thead>\n",
       "  <tbody>\n",
       "    <tr>\n",
       "      <th>637141</th>\n",
       "      <td>0</td>\n",
       "      <td>2234110375</td>\n",
       "      <td>Thu Jun 18 22:26:51 PDT 2009</td>\n",
       "      <td>NO_QUERY</td>\n",
       "      <td>MILEYtheFIRST</td>\n",
       "      <td>@TJFantini i was gonna say something about jen...</td>\n",
       "    </tr>\n",
       "    <tr>\n",
       "      <th>656265</th>\n",
       "      <td>0</td>\n",
       "      <td>2240379842</td>\n",
       "      <td>Fri Jun 19 09:40:35 PDT 2009</td>\n",
       "      <td>NO_QUERY</td>\n",
       "      <td>jlleblanc</td>\n",
       "      <td>ok done. 7-10 days for them to connect the line</td>\n",
       "    </tr>\n",
       "    <tr>\n",
       "      <th>449739</th>\n",
       "      <td>0</td>\n",
       "      <td>2069320560</td>\n",
       "      <td>Sun Jun 07 15:39:45 PDT 2009</td>\n",
       "      <td>NO_QUERY</td>\n",
       "      <td>pstainthorp</td>\n",
       "      <td>@DeborahLincoln It's alright, they've got frie...</td>\n",
       "    </tr>\n",
       "    <tr>\n",
       "      <th>325754</th>\n",
       "      <td>0</td>\n",
       "      <td>2007708106</td>\n",
       "      <td>Tue Jun 02 13:02:08 PDT 2009</td>\n",
       "      <td>NO_QUERY</td>\n",
       "      <td>mandyliroux</td>\n",
       "      <td>joe I love you so much, is true !</td>\n",
       "    </tr>\n",
       "    <tr>\n",
       "      <th>671803</th>\n",
       "      <td>0</td>\n",
       "      <td>2246971107</td>\n",
       "      <td>Fri Jun 19 18:23:51 PDT 2009</td>\n",
       "      <td>NO_QUERY</td>\n",
       "      <td>rosykarina</td>\n",
       "      <td>flu&amp;amp;cough</td>\n",
       "    </tr>\n",
       "    <tr>\n",
       "      <th>...</th>\n",
       "      <td>...</td>\n",
       "      <td>...</td>\n",
       "      <td>...</td>\n",
       "      <td>...</td>\n",
       "      <td>...</td>\n",
       "      <td>...</td>\n",
       "    </tr>\n",
       "    <tr>\n",
       "      <th>903508</th>\n",
       "      <td>1</td>\n",
       "      <td>1694628462</td>\n",
       "      <td>Mon May 04 03:28:32 PDT 2009</td>\n",
       "      <td>NO_QUERY</td>\n",
       "      <td>matt49er</td>\n",
       "      <td>@MissJoJoSmith I was thinking there should be ...</td>\n",
       "    </tr>\n",
       "    <tr>\n",
       "      <th>1594015</th>\n",
       "      <td>1</td>\n",
       "      <td>2192061293</td>\n",
       "      <td>Tue Jun 16 06:26:37 PDT 2009</td>\n",
       "      <td>NO_QUERY</td>\n",
       "      <td>DavidRMartinson</td>\n",
       "      <td>@whoisariston Awesome amount of space! Have fu...</td>\n",
       "    </tr>\n",
       "    <tr>\n",
       "      <th>1572168</th>\n",
       "      <td>1</td>\n",
       "      <td>2188883969</td>\n",
       "      <td>Mon Jun 15 22:46:02 PDT 2009</td>\n",
       "      <td>NO_QUERY</td>\n",
       "      <td>smuttysteff</td>\n",
       "      <td>@julesjulesjules Thanks, hon.</td>\n",
       "    </tr>\n",
       "    <tr>\n",
       "      <th>1544587</th>\n",
       "      <td>1</td>\n",
       "      <td>2181825258</td>\n",
       "      <td>Mon Jun 15 12:20:53 PDT 2009</td>\n",
       "      <td>NO_QUERY</td>\n",
       "      <td>TeamSGomez</td>\n",
       "      <td>@JennetteMcCTeam You Have A Lot Of Followers</td>\n",
       "    </tr>\n",
       "    <tr>\n",
       "      <th>1049436</th>\n",
       "      <td>1</td>\n",
       "      <td>1960389854</td>\n",
       "      <td>Fri May 29 07:53:17 PDT 2009</td>\n",
       "      <td>NO_QUERY</td>\n",
       "      <td>anambanana</td>\n",
       "      <td>@patriciaco thanks.</td>\n",
       "    </tr>\n",
       "  </tbody>\n",
       "</table>\n",
       "<p>200000 rows × 6 columns</p>\n",
       "</div>"
      ],
      "text/plain": [
       "         target          id                          date     query  \\\n",
       "637141        0  2234110375  Thu Jun 18 22:26:51 PDT 2009  NO_QUERY   \n",
       "656265        0  2240379842  Fri Jun 19 09:40:35 PDT 2009  NO_QUERY   \n",
       "449739        0  2069320560  Sun Jun 07 15:39:45 PDT 2009  NO_QUERY   \n",
       "325754        0  2007708106  Tue Jun 02 13:02:08 PDT 2009  NO_QUERY   \n",
       "671803        0  2246971107  Fri Jun 19 18:23:51 PDT 2009  NO_QUERY   \n",
       "...         ...         ...                           ...       ...   \n",
       "903508        1  1694628462  Mon May 04 03:28:32 PDT 2009  NO_QUERY   \n",
       "1594015       1  2192061293  Tue Jun 16 06:26:37 PDT 2009  NO_QUERY   \n",
       "1572168       1  2188883969  Mon Jun 15 22:46:02 PDT 2009  NO_QUERY   \n",
       "1544587       1  2181825258  Mon Jun 15 12:20:53 PDT 2009  NO_QUERY   \n",
       "1049436       1  1960389854  Fri May 29 07:53:17 PDT 2009  NO_QUERY   \n",
       "\n",
       "                    user                                            comment  \n",
       "637141     MILEYtheFIRST  @TJFantini i was gonna say something about jen...  \n",
       "656265         jlleblanc   ok done. 7-10 days for them to connect the line   \n",
       "449739       pstainthorp  @DeborahLincoln It's alright, they've got frie...  \n",
       "325754       mandyliroux                 joe I love you so much, is true !   \n",
       "671803        rosykarina                                     flu&amp;cough   \n",
       "...                  ...                                                ...  \n",
       "903508          matt49er  @MissJoJoSmith I was thinking there should be ...  \n",
       "1594015  DavidRMartinson  @whoisariston Awesome amount of space! Have fu...  \n",
       "1572168      smuttysteff                     @julesjulesjules Thanks, hon.   \n",
       "1544587       TeamSGomez      @JennetteMcCTeam You Have A Lot Of Followers   \n",
       "1049436       anambanana                               @patriciaco thanks.   \n",
       "\n",
       "[200000 rows x 6 columns]"
      ]
     },
     "execution_count": 23,
     "metadata": {},
     "output_type": "execute_result"
    }
   ],
   "source": [
    "final_data"
   ]
  },
  {
   "cell_type": "code",
   "execution_count": 36,
   "id": "a4d9ee5f-d721-4ca7-869e-9d7af3195c62",
   "metadata": {},
   "outputs": [],
   "source": [
    "temp=final_data[['target','comment']]\n",
    "temp.to_csv('temp.csv')"
   ]
  },
  {
   "cell_type": "code",
   "execution_count": 37,
   "id": "fb78f5ab-50d5-4333-9cfa-a88947440829",
   "metadata": {},
   "outputs": [
    {
     "data": {
      "text/plain": [
       "(0, 0)"
      ]
     },
     "execution_count": 37,
     "metadata": {},
     "output_type": "execute_result"
    }
   ],
   "source": [
    "final_data['comment'].isnull().sum(),final_data['target'].isnull().sum()"
   ]
  },
  {
   "cell_type": "code",
   "execution_count": 38,
   "id": "b235d893-5535-4521-be1c-c64e2642d3b8",
   "metadata": {},
   "outputs": [],
   "source": [
    "from tensorflow.keras.preprocessing.text import one_hot\n",
    "from tensorflow.keras.preprocessing.sequence import pad_sequences"
   ]
  },
  {
   "cell_type": "code",
   "execution_count": 39,
   "id": "4e4b39e3-b5c1-481b-8783-564dcc14e819",
   "metadata": {},
   "outputs": [
    {
     "data": {
      "text/plain": [
       "[45, 3, 36, 58, 88]"
      ]
     },
     "execution_count": 39,
     "metadata": {},
     "output_type": "execute_result"
    }
   ],
   "source": [
    "one_hot('hello vamsi i love you',n=100)"
   ]
  },
  {
   "cell_type": "code",
   "execution_count": 40,
   "id": "adfb2efc-6cdb-4f4b-8f78-d815029948c0",
   "metadata": {},
   "outputs": [],
   "source": [
    "vocab_size=50000\n",
    "onehot=[one_hot(sent,n=vocab_size) for sent in corpus]"
   ]
  },
  {
   "cell_type": "code",
   "execution_count": 41,
   "id": "4eec5a88-09d9-48a7-a7c0-8c4eea84931d",
   "metadata": {},
   "outputs": [
    {
     "name": "stdout",
     "output_type": "stream",
     "text": [
      "16466\n"
     ]
    },
    {
     "data": {
      "text/plain": [
       "('http bit ly thy p lt v n nh h x ko bao gi c n n n nh kh ng th hi u quot gi n ng l th quot l gi n ng c ki u kh g',\n",
       " 40)"
      ]
     },
     "execution_count": 41,
     "metadata": {},
     "output_type": "execute_result"
    }
   ],
   "source": [
    "length=[ len(sent.split()) for sent in corpus]\n",
    "max(length)\n",
    "print(length.index(max(length)))\n",
    "corpus[16466],max(length)"
   ]
  },
  {
   "cell_type": "code",
   "execution_count": 42,
   "id": "3a7e2a34-03a7-4831-9d05-d2cbbd531f4b",
   "metadata": {},
   "outputs": [
    {
     "data": {
      "text/plain": [
       "array([[    0,     0,     0, ..., 30927, 16288,  6087],\n",
       "       [    0,     0,     0, ...,  5369, 45423, 13293],\n",
       "       [    0,     0,     0, ...,  4476, 38961, 25409],\n",
       "       ...,\n",
       "       [    0,     0,     0, ..., 33549,  9072, 25996],\n",
       "       [    0,     0,     0, ..., 21355, 22563, 26665],\n",
       "       [    0,     0,     0, ...,     0, 18559,  9072]])"
      ]
     },
     "execution_count": 42,
     "metadata": {},
     "output_type": "execute_result"
    }
   ],
   "source": [
    "encoded_comments=pad_sequences(onehot,maxlen=40)\n",
    "encoded_comments"
   ]
  },
  {
   "cell_type": "code",
   "execution_count": 43,
   "id": "9a4513df-a4db-4c0b-b34b-3f82e0c2d70a",
   "metadata": {},
   "outputs": [
    {
     "data": {
      "text/plain": [
       "200000"
      ]
     },
     "execution_count": 43,
     "metadata": {},
     "output_type": "execute_result"
    }
   ],
   "source": [
    "len(encoded_comments)"
   ]
  },
  {
   "cell_type": "code",
   "execution_count": 81,
   "id": "f8d4dfe0-d927-43a3-8f39-52e739c61ce6",
   "metadata": {},
   "outputs": [],
   "source": [
    "from tensorflow.keras.models import Sequential\n",
    "from tensorflow.keras.layers import Embedding,Bidirectional,LSTM,Dense,Dropout\n",
    "from tensorflow.keras.callbacks import EarlyStopping"
   ]
  },
  {
   "cell_type": "code",
   "execution_count": 148,
   "id": "0ae81cd6-4163-4bf3-9e52-35edba4e4208",
   "metadata": {},
   "outputs": [],
   "source": [
    "# Adjusting output dimensions in your model\n",
    "model = Sequential()\n",
    "model.add(Embedding(input_dim=50000, output_dim=20))  # Reduced embedding output dimension\n",
    "model.add(Dropout(0.2))\n",
    "model.add(Bidirectional(LSTM(100)))\n",
    "model.add(Dense(64, activation='relu'))\n",
    "model.add(Dropout(0.2))\n",
    "model.add(Dense(1, activation='sigmoid'))\n",
    "model.compile(optimizer='adam', loss='binary_crossentropy', metrics=['accuracy'])"
   ]
  },
  {
   "cell_type": "code",
   "execution_count": 149,
   "id": "e8d3dfc6-0e58-4b52-aa62-b8dc9f1b87e8",
   "metadata": {},
   "outputs": [
    {
     "data": {
      "text/html": [
       "<pre style=\"white-space:pre;overflow-x:auto;line-height:normal;font-family:Menlo,'DejaVu Sans Mono',consolas,'Courier New',monospace\"><span style=\"font-weight: bold\">Model: \"sequential_8\"</span>\n",
       "</pre>\n"
      ],
      "text/plain": [
       "\u001b[1mModel: \"sequential_8\"\u001b[0m\n"
      ]
     },
     "metadata": {},
     "output_type": "display_data"
    },
    {
     "data": {
      "text/html": [
       "<pre style=\"white-space:pre;overflow-x:auto;line-height:normal;font-family:Menlo,'DejaVu Sans Mono',consolas,'Courier New',monospace\">┏━━━━━━━━━━━━━━━━━━━━━━━━━━━━━━━━━━━━━━┳━━━━━━━━━━━━━━━━━━━━━━━━━━━━━┳━━━━━━━━━━━━━━━━━┓\n",
       "┃<span style=\"font-weight: bold\"> Layer (type)                         </span>┃<span style=\"font-weight: bold\"> Output Shape                </span>┃<span style=\"font-weight: bold\">         Param # </span>┃\n",
       "┡━━━━━━━━━━━━━━━━━━━━━━━━━━━━━━━━━━━━━━╇━━━━━━━━━━━━━━━━━━━━━━━━━━━━━╇━━━━━━━━━━━━━━━━━┩\n",
       "│ embedding_8 (<span style=\"color: #0087ff; text-decoration-color: #0087ff\">Embedding</span>)              │ ?                           │     <span style=\"color: #00af00; text-decoration-color: #00af00\">0</span> (unbuilt) │\n",
       "├──────────────────────────────────────┼─────────────────────────────┼─────────────────┤\n",
       "│ dropout_11 (<span style=\"color: #0087ff; text-decoration-color: #0087ff\">Dropout</span>)                 │ ?                           │     <span style=\"color: #00af00; text-decoration-color: #00af00\">0</span> (unbuilt) │\n",
       "├──────────────────────────────────────┼─────────────────────────────┼─────────────────┤\n",
       "│ bidirectional_8 (<span style=\"color: #0087ff; text-decoration-color: #0087ff\">Bidirectional</span>)      │ ?                           │     <span style=\"color: #00af00; text-decoration-color: #00af00\">0</span> (unbuilt) │\n",
       "├──────────────────────────────────────┼─────────────────────────────┼─────────────────┤\n",
       "│ dense_8 (<span style=\"color: #0087ff; text-decoration-color: #0087ff\">Dense</span>)                      │ ?                           │     <span style=\"color: #00af00; text-decoration-color: #00af00\">0</span> (unbuilt) │\n",
       "├──────────────────────────────────────┼─────────────────────────────┼─────────────────┤\n",
       "│ dropout_12 (<span style=\"color: #0087ff; text-decoration-color: #0087ff\">Dropout</span>)                 │ ?                           │     <span style=\"color: #00af00; text-decoration-color: #00af00\">0</span> (unbuilt) │\n",
       "├──────────────────────────────────────┼─────────────────────────────┼─────────────────┤\n",
       "│ dense_9 (<span style=\"color: #0087ff; text-decoration-color: #0087ff\">Dense</span>)                      │ ?                           │     <span style=\"color: #00af00; text-decoration-color: #00af00\">0</span> (unbuilt) │\n",
       "└──────────────────────────────────────┴─────────────────────────────┴─────────────────┘\n",
       "</pre>\n"
      ],
      "text/plain": [
       "┏━━━━━━━━━━━━━━━━━━━━━━━━━━━━━━━━━━━━━━┳━━━━━━━━━━━━━━━━━━━━━━━━━━━━━┳━━━━━━━━━━━━━━━━━┓\n",
       "┃\u001b[1m \u001b[0m\u001b[1mLayer (type)                        \u001b[0m\u001b[1m \u001b[0m┃\u001b[1m \u001b[0m\u001b[1mOutput Shape               \u001b[0m\u001b[1m \u001b[0m┃\u001b[1m \u001b[0m\u001b[1m        Param #\u001b[0m\u001b[1m \u001b[0m┃\n",
       "┡━━━━━━━━━━━━━━━━━━━━━━━━━━━━━━━━━━━━━━╇━━━━━━━━━━━━━━━━━━━━━━━━━━━━━╇━━━━━━━━━━━━━━━━━┩\n",
       "│ embedding_8 (\u001b[38;5;33mEmbedding\u001b[0m)              │ ?                           │     \u001b[38;5;34m0\u001b[0m (unbuilt) │\n",
       "├──────────────────────────────────────┼─────────────────────────────┼─────────────────┤\n",
       "│ dropout_11 (\u001b[38;5;33mDropout\u001b[0m)                 │ ?                           │     \u001b[38;5;34m0\u001b[0m (unbuilt) │\n",
       "├──────────────────────────────────────┼─────────────────────────────┼─────────────────┤\n",
       "│ bidirectional_8 (\u001b[38;5;33mBidirectional\u001b[0m)      │ ?                           │     \u001b[38;5;34m0\u001b[0m (unbuilt) │\n",
       "├──────────────────────────────────────┼─────────────────────────────┼─────────────────┤\n",
       "│ dense_8 (\u001b[38;5;33mDense\u001b[0m)                      │ ?                           │     \u001b[38;5;34m0\u001b[0m (unbuilt) │\n",
       "├──────────────────────────────────────┼─────────────────────────────┼─────────────────┤\n",
       "│ dropout_12 (\u001b[38;5;33mDropout\u001b[0m)                 │ ?                           │     \u001b[38;5;34m0\u001b[0m (unbuilt) │\n",
       "├──────────────────────────────────────┼─────────────────────────────┼─────────────────┤\n",
       "│ dense_9 (\u001b[38;5;33mDense\u001b[0m)                      │ ?                           │     \u001b[38;5;34m0\u001b[0m (unbuilt) │\n",
       "└──────────────────────────────────────┴─────────────────────────────┴─────────────────┘\n"
      ]
     },
     "metadata": {},
     "output_type": "display_data"
    },
    {
     "data": {
      "text/html": [
       "<pre style=\"white-space:pre;overflow-x:auto;line-height:normal;font-family:Menlo,'DejaVu Sans Mono',consolas,'Courier New',monospace\"><span style=\"font-weight: bold\"> Total params: </span><span style=\"color: #00af00; text-decoration-color: #00af00\">0</span> (0.00 B)\n",
       "</pre>\n"
      ],
      "text/plain": [
       "\u001b[1m Total params: \u001b[0m\u001b[38;5;34m0\u001b[0m (0.00 B)\n"
      ]
     },
     "metadata": {},
     "output_type": "display_data"
    },
    {
     "data": {
      "text/html": [
       "<pre style=\"white-space:pre;overflow-x:auto;line-height:normal;font-family:Menlo,'DejaVu Sans Mono',consolas,'Courier New',monospace\"><span style=\"font-weight: bold\"> Trainable params: </span><span style=\"color: #00af00; text-decoration-color: #00af00\">0</span> (0.00 B)\n",
       "</pre>\n"
      ],
      "text/plain": [
       "\u001b[1m Trainable params: \u001b[0m\u001b[38;5;34m0\u001b[0m (0.00 B)\n"
      ]
     },
     "metadata": {},
     "output_type": "display_data"
    },
    {
     "data": {
      "text/html": [
       "<pre style=\"white-space:pre;overflow-x:auto;line-height:normal;font-family:Menlo,'DejaVu Sans Mono',consolas,'Courier New',monospace\"><span style=\"font-weight: bold\"> Non-trainable params: </span><span style=\"color: #00af00; text-decoration-color: #00af00\">0</span> (0.00 B)\n",
       "</pre>\n"
      ],
      "text/plain": [
       "\u001b[1m Non-trainable params: \u001b[0m\u001b[38;5;34m0\u001b[0m (0.00 B)\n"
      ]
     },
     "metadata": {},
     "output_type": "display_data"
    }
   ],
   "source": [
    "model.summary()"
   ]
  },
  {
   "cell_type": "code",
   "execution_count": 150,
   "id": "8a8a6505-dcca-4ba0-9d8b-5ab404d191b4",
   "metadata": {},
   "outputs": [
    {
     "data": {
      "text/plain": [
       "target\n",
       "0    100000\n",
       "1    100000\n",
       "Name: count, dtype: int64"
      ]
     },
     "execution_count": 150,
     "metadata": {},
     "output_type": "execute_result"
    }
   ],
   "source": [
    "y=final_data['target']\n",
    "y.value_counts()"
   ]
  },
  {
   "cell_type": "code",
   "execution_count": 151,
   "id": "e49ffece-c106-44e0-ab9f-5efd6346e21b",
   "metadata": {},
   "outputs": [],
   "source": [
    "from sklearn.model_selection import train_test_split\n",
    "X_train, X_test, y_train, y_test = train_test_split(encoded_comments, y, test_size=0.2, random_state=42,stratify=y)\n"
   ]
  },
  {
   "cell_type": "code",
   "execution_count": 152,
   "id": "e03a4c85-5801-4224-95bb-9c5dcabfa097",
   "metadata": {},
   "outputs": [
    {
     "data": {
      "text/plain": [
       "((160000, 40), (160000,), (40000, 40), (40000,))"
      ]
     },
     "execution_count": 152,
     "metadata": {},
     "output_type": "execute_result"
    }
   ],
   "source": [
    "X_train.shape,y_train.shape,X_test.shape,y_test.shape"
   ]
  },
  {
   "cell_type": "code",
   "execution_count": 153,
   "id": "f3099600-de0a-4426-a98c-3c492a535b0c",
   "metadata": {},
   "outputs": [],
   "source": [
    "from sklearn.model_selection import train_test_split\n",
    "X_train, X_val, y_train, y_val = train_test_split(X_train, y_train, test_size=0.2, random_state=42,stratify=y_train)"
   ]
  },
  {
   "cell_type": "code",
   "execution_count": 154,
   "id": "a8172de3-9844-413e-988c-5cf96c735f64",
   "metadata": {},
   "outputs": [
    {
     "data": {
      "text/plain": [
       "((128000, 40), (32000, 40), (128000,), (32000,))"
      ]
     },
     "execution_count": 154,
     "metadata": {},
     "output_type": "execute_result"
    }
   ],
   "source": [
    "X_train.shape,X_val.shape,y_train.shape,y_val.shape"
   ]
  },
  {
   "cell_type": "code",
   "execution_count": 155,
   "id": "c5b9e5b0-1ae2-4b0d-bbb6-12841a3ac279",
   "metadata": {},
   "outputs": [
    {
     "name": "stdout",
     "output_type": "stream",
     "text": [
      "Epoch 1/100\n",
      "\u001b[1m2560/2560\u001b[0m \u001b[32m━━━━━━━━━━━━━━━━━━━━\u001b[0m\u001b[37m\u001b[0m \u001b[1m186s\u001b[0m 70ms/step - accuracy: 0.7044 - loss: 0.5561 - val_accuracy: 0.7669 - val_loss: 0.4887\n",
      "Epoch 2/100\n",
      "\u001b[1m2560/2560\u001b[0m \u001b[32m━━━━━━━━━━━━━━━━━━━━\u001b[0m\u001b[37m\u001b[0m \u001b[1m171s\u001b[0m 67ms/step - accuracy: 0.7985 - loss: 0.4388 - val_accuracy: 0.7626 - val_loss: 0.4921\n",
      "Epoch 3/100\n",
      "\u001b[1m2560/2560\u001b[0m \u001b[32m━━━━━━━━━━━━━━━━━━━━\u001b[0m\u001b[37m\u001b[0m \u001b[1m168s\u001b[0m 66ms/step - accuracy: 0.8283 - loss: 0.3840 - val_accuracy: 0.7559 - val_loss: 0.5206\n",
      "Epoch 4/100\n",
      "\u001b[1m2560/2560\u001b[0m \u001b[32m━━━━━━━━━━━━━━━━━━━━\u001b[0m\u001b[37m\u001b[0m \u001b[1m173s\u001b[0m 68ms/step - accuracy: 0.8520 - loss: 0.3355 - val_accuracy: 0.7482 - val_loss: 0.5838\n",
      "Epoch 5/100\n",
      "\u001b[1m2560/2560\u001b[0m \u001b[32m━━━━━━━━━━━━━━━━━━━━\u001b[0m\u001b[37m\u001b[0m \u001b[1m170s\u001b[0m 66ms/step - accuracy: 0.8711 - loss: 0.2944 - val_accuracy: 0.7388 - val_loss: 0.6152\n",
      "Epoch 6/100\n",
      "\u001b[1m2560/2560\u001b[0m \u001b[32m━━━━━━━━━━━━━━━━━━━━\u001b[0m\u001b[37m\u001b[0m \u001b[1m171s\u001b[0m 67ms/step - accuracy: 0.8897 - loss: 0.2561 - val_accuracy: 0.7348 - val_loss: 0.7161\n",
      "Epoch 7/100\n",
      "\u001b[1m2560/2560\u001b[0m \u001b[32m━━━━━━━━━━━━━━━━━━━━\u001b[0m\u001b[37m\u001b[0m \u001b[1m169s\u001b[0m 66ms/step - accuracy: 0.9044 - loss: 0.2257 - val_accuracy: 0.7258 - val_loss: 0.7580\n",
      "Epoch 8/100\n",
      "\u001b[1m2560/2560\u001b[0m \u001b[32m━━━━━━━━━━━━━━━━━━━━\u001b[0m\u001b[37m\u001b[0m \u001b[1m172s\u001b[0m 67ms/step - accuracy: 0.9177 - loss: 0.1964 - val_accuracy: 0.7236 - val_loss: 0.8633\n",
      "Epoch 9/100\n",
      "\u001b[1m2560/2560\u001b[0m \u001b[32m━━━━━━━━━━━━━━━━━━━━\u001b[0m\u001b[37m\u001b[0m \u001b[1m172s\u001b[0m 67ms/step - accuracy: 0.9268 - loss: 0.1744 - val_accuracy: 0.7275 - val_loss: 0.9219\n",
      "Epoch 10/100\n",
      "\u001b[1m2560/2560\u001b[0m \u001b[32m━━━━━━━━━━━━━━━━━━━━\u001b[0m\u001b[37m\u001b[0m \u001b[1m172s\u001b[0m 67ms/step - accuracy: 0.9358 - loss: 0.1545 - val_accuracy: 0.7191 - val_loss: 0.9907\n",
      "Epoch 11/100\n",
      "\u001b[1m2560/2560\u001b[0m \u001b[32m━━━━━━━━━━━━━━━━━━━━\u001b[0m\u001b[37m\u001b[0m \u001b[1m176s\u001b[0m 69ms/step - accuracy: 0.9402 - loss: 0.1420 - val_accuracy: 0.7228 - val_loss: 1.1042\n",
      "time taken:- 1900.7230699062347\n"
     ]
    }
   ],
   "source": [
    "s=time.time()\n",
    "early_stopping = EarlyStopping(monitor='val_loss', patience=10, restore_best_weights=True)\n",
    "model.fit(X_train, y_train, epochs=100, batch_size=50,validation_data=(X_val, y_val), callbacks=[early_stopping])\n",
    "e=time.time()\n",
    "print(f'time taken:- {e-s}')"
   ]
  },
  {
   "cell_type": "code",
   "execution_count": 156,
   "id": "f6003736-074f-4f27-8ae9-da2f56229a5e",
   "metadata": {},
   "outputs": [
    {
     "name": "stdout",
     "output_type": "stream",
     "text": [
      "\u001b[1m1250/1250\u001b[0m \u001b[32m━━━━━━━━━━━━━━━━━━━━\u001b[0m\u001b[37m\u001b[0m \u001b[1m26s\u001b[0m 20ms/step\n"
     ]
    }
   ],
   "source": [
    "y_pred=model.predict(X_test)"
   ]
  },
  {
   "cell_type": "code",
   "execution_count": 157,
   "id": "250b9940-fb43-4806-933e-26c2c72b240a",
   "metadata": {},
   "outputs": [
    {
     "data": {
      "text/plain": [
       "array([[0],\n",
       "       [1],\n",
       "       [1],\n",
       "       ...,\n",
       "       [0],\n",
       "       [0],\n",
       "       [0]])"
      ]
     },
     "execution_count": 157,
     "metadata": {},
     "output_type": "execute_result"
    }
   ],
   "source": [
    "import numpy as np\n",
    "y_pred=np.where(y_pred>0.5,1,0)\n",
    "y_pred"
   ]
  },
  {
   "cell_type": "code",
   "execution_count": null,
   "id": "5b743fdf-5daa-4e3e-a2bd-d2e84687c28d",
   "metadata": {},
   "outputs": [],
   "source": [
    "from tensorfl"
   ]
  },
  {
   "cell_type": "code",
   "execution_count": 160,
   "id": "35752d3f-62d6-4c90-9112-0413cbdb48c7",
   "metadata": {},
   "outputs": [
    {
     "data": {
      "text/plain": [
       "0.76095"
      ]
     },
     "execution_count": 160,
     "metadata": {},
     "output_type": "execute_result"
    }
   ],
   "source": [
    "#0.76425,0.76505\n",
    "from sklearn.metrics import accuracy_score,classification_report,confusion_matrix\n",
    "accuracy_score(y_test,y_pred)"
   ]
  },
  {
   "cell_type": "code",
   "execution_count": 171,
   "id": "5f53acc4-fd8c-4192-8ebb-737307b08d17",
   "metadata": {},
   "outputs": [],
   "source": [
    "def newinput():\n",
    "    # n=int(input('enter no of tweets'))\n",
    "    commen=[\n",
    "    \"I'm not impressed with the service at all.\"\n",
    "]\n",
    "\n",
    "\n",
    "    corp=[]\n",
    "    # for i in range(n):\n",
    "    #     s=input('tweet')\n",
    "    #     commen.append(s)\n",
    "    for comment in commen:\n",
    "        review=re.sub('[^a-zA-Z]',' ',comment)\n",
    "        review=review.lower()\n",
    "        review=review.split()\n",
    "        review=[lm.lemmatize(word) for word in review if word not in set(stopwords.words('english'))]\n",
    "        review=' '.join(review)\n",
    "        corp.append(review)\n",
    "    onehot1=[one_hot(sent,n=vocab_size) for sent in corp]\n",
    "    encoded_comments1=pad_sequences(onehot1,maxlen=40)\n",
    "    output=model.predict(encoded_comments1)\n",
    "    output=np.where(output>0.5,1,0)\n",
    "    for i in output:\n",
    "        if i==0:\n",
    "            print('negative')\n",
    "        else:\n",
    "            print('positve')\n",
    "    "
   ]
  },
  {
   "cell_type": "code",
   "execution_count": 172,
   "id": "45d089e6-1574-49dd-83fe-5a3a77b74191",
   "metadata": {},
   "outputs": [
    {
     "name": "stdout",
     "output_type": "stream",
     "text": [
      "\u001b[1m1/1\u001b[0m \u001b[32m━━━━━━━━━━━━━━━━━━━━\u001b[0m\u001b[37m\u001b[0m \u001b[1m0s\u001b[0m 61ms/step\n",
      "positve\n",
      "negative\n",
      "positve\n",
      "negative\n",
      "positve\n",
      "negative\n",
      "positve\n",
      "positve\n",
      "positve\n",
      "negative\n",
      "positve\n",
      "negative\n",
      "positve\n",
      "positve\n",
      "positve\n",
      "negative\n",
      "positve\n",
      "negative\n",
      "negative\n",
      "positve\n"
     ]
    }
   ],
   "source": [
    "newinput()"
   ]
  }
 ],
 "metadata": {
  "kernelspec": {
   "display_name": "Python 3 (ipykernel)",
   "language": "python",
   "name": "python3"
  },
  "language_info": {
   "codemirror_mode": {
    "name": "ipython",
    "version": 3
   },
   "file_extension": ".py",
   "mimetype": "text/x-python",
   "name": "python",
   "nbconvert_exporter": "python",
   "pygments_lexer": "ipython3",
   "version": "3.12.3"
  }
 },
 "nbformat": 4,
 "nbformat_minor": 5
}
